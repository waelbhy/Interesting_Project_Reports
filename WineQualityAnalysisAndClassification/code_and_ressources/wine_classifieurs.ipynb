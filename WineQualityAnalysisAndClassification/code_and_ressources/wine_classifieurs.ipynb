{
  "nbformat": 4,
  "nbformat_minor": 0,
  "metadata": {
    "colab": {
      "name": "wine_classifieurs.ipynb",
      "provenance": [],
      "collapsed_sections": []
    },
    "kernelspec": {
      "name": "python3",
      "display_name": "Python 3"
    }
  },
  "cells": [
    {
      "cell_type": "code",
      "metadata": {
        "id": "r02WXx5Am3J1",
        "colab_type": "code",
        "outputId": "740b44d7-0533-4784-ded3-c6d3f86d588e",
        "colab": {
          "base_uri": "https://localhost:8080/",
          "height": 88
        }
      },
      "source": [
        "from sklearn.model_selection import train_test_split\n",
        "from sklearn.model_selection import cross_val_score\n",
        "from sklearn.svm import SVC\n",
        "import keras\n",
        "from keras.models import Sequential\n",
        "from keras.layers import Dense \n",
        "import numpy as np\n",
        "#from pandas import *\n",
        "import sys\n",
        "\n",
        "if not sys.warnoptions:\n",
        "    import warnings\n",
        "    warnings.simplefilter(\"ignore\")\n",
        "\n",
        "\n",
        "dataset = pandas.read_csv('wine.csv',header=0)\n",
        "\n",
        "X = dataset.iloc[:,1:12]\n",
        "#print(X)\n",
        "Y = dataset.iloc[:,12:13]\n",
        "#print(Y)\n",
        "\n",
        "X_train, X_test, y_train, y_test = train_test_split(X, Y, test_size = 0.66, random_state = 5)\n",
        "classifier = SVC(kernel = 'poly', random_state = 0)\n",
        "classifier.fit(X_train, y_train)\n",
        "y_pred = classifier.predict(X_test)\n",
        "accuracies = cross_val_score(estimator = classifier, X = X_train, y = y_train.values.ravel(), cv = 10)\n",
        "accuracies.mean()"
      ],
      "execution_count": 0,
      "outputs": [
        {
          "output_type": "stream",
          "text": [
            "/usr/local/lib/python3.6/dist-packages/sklearn/utils/validation.py:760: DataConversionWarning: A column-vector y was passed when a 1d array was expected. Please change the shape of y to (n_samples, ), for example using ravel().\n",
            "  y = column_or_1d(y, warn=True)\n"
          ],
          "name": "stderr"
        },
        {
          "output_type": "execute_result",
          "data": {
            "text/plain": [
              "0.8195286195286196"
            ]
          },
          "metadata": {
            "tags": []
          },
          "execution_count": 19
        }
      ]
    },
    {
      "cell_type": "code",
      "metadata": {
        "id": "cU2T_n0noA4S",
        "colab_type": "code",
        "outputId": "45ab9236-c01d-48da-b35c-582a5f9d9fac",
        "colab": {
          "base_uri": "https://localhost:8080/",
          "height": 510
        }
      },
      "source": [
        "\n",
        "#quality = 3\n",
        "test2 = np.array([[7.4,\t1.185,\t0.00,\t4.25,\t0.097,\t5,\t14,\t0.99660,\t3.63,\t0.54,\t10.70]])\n",
        "test4 = np.array([[5.7,\t1.130,\t0.09,\t1.50,\t0.172,\t7,\t19,\t0.99400,\t3.50,\t0.48,\t9.80]])\n",
        "test5 = np.array([[8.8,\t0.610,\t0.30,\t2.80,\t0.088,\t17,\t46,\t0.99760,\t3.26,\t0.51,\t9.30]])\n",
        "test6 = np.array([[7.1,\t0.875,\t0.05,\t5.70,\t0.082,\t3,\t14,\t0.99808,\t3.40,\t0.52,\t10.20]])\n",
        "test7 = np.array([[6.7,\t0.760,\t0.02,\t1.80,\t0.078,\t6,\t12,\t0.99600,\t3.55,\t0.63,\t9.95]])\n",
        "\n",
        "#quality = 4\n",
        "test11 = np.array([[7.1,\t0.470,\t0.00,\t2.20,\t0.067,\t7,\t14,\t0.99517,\t3.40,\t0.58,\t10.90]])\n",
        "test12 = np.array([[8.1,\t0.730,\t0.00,\t2.50,\t0.081,\t12,\t24,\t0.99798,\t3.38,\t0.46,\t9.60]])\n",
        "test13 = np.array([[8.2,\t0.780,\t0.00,\t2.20,\t0.089,13,\t26,\t0.99780,\t3.37,\t0.46, \t9.60]])\n",
        "\n",
        "#quatity = 5\n",
        "test = np.array([[7.4 , 0.7 , 0 , 1.9 , 0.076 , 11 , 34 , 0.9978 , 3.51 , 0.56 , 9.4]])\n",
        "test19 = np.array([[6.6,\t0.705,\t0.07,\t1.60,\t0.076,\t6,\t15,\t0.99620,\t3.44,\t0.58,\t10.70]])\n",
        "test20 = np.array([[7.7,\t0.670,\t0.23,\t2.10,\t0.088,\t17,\t96,\t0.99620,\t3.32,\t0.48,\t9.50]])\n",
        "\n",
        "#quatity = 6\n",
        "test3 =np.array([[7.8,\t0.600,\t0.14,\t2.40,\t0.086,\t3.0,\t15,\t0.99750,\t3.42,\t0.60,\t10.8]])\n",
        "test21 = np.array([[8.5,\t0.585,\t0.18,\t2.10,\t0.078,\t5.0,\t30,\t0.99670,\t3.20,\t0.48,\t9.8]])\n",
        "test22 = np.array([[12.7,\t0.590,\t0.45,\t2.30,\t0.082,\t11.0,\t22,\t1.00000,\t3.00,\t0.70,\t9.3]])\n",
        "test23 = np.array([[13.2,\t0.460,\t0.52,\t2.20,\t0.071,\t12.0,\t35,\t1.00060, 3.10,\t0.56,\t9.0]])\n",
        "\n",
        "#quality = 7\n",
        "test14 = np.array([[7.2,\t0.370,\t0.32,\t2.00,\t0.062,\t15.0,\t28,\t0.99470,\t3.23,\t0.73,\t11.30000]])\n",
        "test15 = np.array([[7.3,\t0.340,\t0.33,\t2.50,\t0.064,\t21.0,\t37,\t0.99520,\t3.35,\t0.77,\t12.10000]])\n",
        "test16 = np.array([[8.5,\t0.320,\t0.42,\t2.30,\t0.075,\t12.0,\t19,\t0.99434,\t3.14,\t0.71,\t11.80000]])\n",
        "test17 = np.array([[5.4,\t0.420,\t0.27,\t2.00,\t0.092,\t23.0,\t55,\t0.99471,\t3.78,\t0.64,\t12.30000]])\n",
        "test18 = np.array([[11.6,\t0.410,\t0.54,\t1.50,\t0.095,\t22.0,\t41,\t0.99735,\t3.02,\t0.76,\t9.90000\t]])\n",
        "\n",
        "#quality = 8\n",
        "test1 = np.array([[7.9,\t0.35,\t0.46,\t3.6,\t0.078,\t15,\t37,\t0.99730,\t3.35,\t0.86,\t12.8]])\n",
        "test8 = np.array([[5.0,\t0.420,\t0.24,\t2.00,\t0.060,\t19.0,\t50,\t0.99170,\t3.72,\t0.74,\t14.00000]])\n",
        "test9 = np.array([[9.1,\t0.400,\t0.50,\t1.80,\t0.071,\t7.0,\t16,\t0.99462,\t3.21,\t0.69,\t12.50000]])\n",
        "test10 = np.array([[8.6,\t0.420,\t0.39,\t1.80,\t0.068,\t6.0,\t12,\t0.99516,\t3.35,\t0.69,\t11.70000]])\n",
        "\n",
        "\n",
        "\n",
        "print(\"class=3, expected=1, Predicted=%s\" % (classifier.predict(test2)))\n",
        "print(\"class=3, expected=1, Predicted=%s\" % (classifier.predict(test4)))\n",
        "print(\"class=3, expected=1, Predicted=%s\" % (classifier.predict(test5)))\n",
        "print(\"class=3, expected=1, Predicted=%s\" % (classifier.predict(test6)))\n",
        "print(\"class=3, expected=1, Predicted=%s \\n\" % (classifier.predict(test7)))\n",
        "\n",
        "print(\"class=4, expected=1, Predicted=%s\" % (classifier.predict(test11) ))\n",
        "print(\"class=4, expected=1, Predicted=%s\" % (classifier.predict(test12) ))\n",
        "print(\"class=4, expected=1, Predicted=%s \\n\" % (classifier.predict(test13) ))\n",
        "\n",
        "print(\"class=5, expected=2, Predicted=%s\" % (classifier.predict(test) ))\n",
        "print(\"class=5, expected=2, Predicted=%s\" % (classifier.predict(test19) ))\n",
        "print(\"class=5, expected=2, Predicted=%s \\n\" % (classifier.predict(test20) ))\n",
        "\n",
        "print(\"class=6, expected=2, Predicted=%s\" % (classifier.predict(test3) ))\n",
        "print(\"class=6, expected=2, Predicted=%s\" % (classifier.predict(test21) ))\n",
        "print(\"class=6, expected=2, Predicted=%s\" % (classifier.predict(test22) ))\n",
        "print(\"class=6, expected=2, Predicted=%s \\n\" % (classifier.predict(test23) ))\n",
        "\n",
        "print(\"class=7, expected=3, Predicted=%s\" % (classifier.predict(test14)))\n",
        "print(\"class=7, expected=3, Predicted=%s\" % (classifier.predict(test15) ))\n",
        "print(\"class=7, expected=3, Predicted=%s\" % (classifier.predict(test16) ))\n",
        "print(\"class=7, expected=3, Predicted=%s\" % (classifier.predict(test17) ))\n",
        "print(\"class=7, expected=3, Predicted=%s \\n\" % (classifier.predict(test18) ))\n",
        "\n",
        "print(\"class=8, expected=3, Predicted=%s\" % (classifier.predict(test1) ))\n",
        "print(\"class=8, expected=3, Predicted=%s\" % (classifier.predict(test8) ))\n",
        "print(\"class=8, expected=3, Predicted=%s\" % (classifier.predict(test9) ))\n",
        "print(\"class=8, expected=3, Predicted=%s\" % (classifier.predict(test10) ))\n",
        "\n",
        "\n",
        "\n",
        "\n",
        "#print(classifier.predict_proba(test2))\n"
      ],
      "execution_count": 0,
      "outputs": [
        {
          "output_type": "stream",
          "text": [
            "class=3, expected=1, Predicted=[2]\n",
            "class=3, expected=1, Predicted=[2]\n",
            "class=3, expected=1, Predicted=[2]\n",
            "class=3, expected=1, Predicted=[2]\n",
            "class=3, expected=1, Predicted=[2] \n",
            "\n",
            "class=4, expected=1, Predicted=[2]\n",
            "class=4, expected=1, Predicted=[2]\n",
            "class=4, expected=1, Predicted=[2] \n",
            "\n",
            "class=5, expected=2, Predicted=[2]\n",
            "class=5, expected=2, Predicted=[2]\n",
            "class=5, expected=2, Predicted=[2] \n",
            "\n",
            "class=6, expected=2, Predicted=[2]\n",
            "class=6, expected=2, Predicted=[2]\n",
            "class=6, expected=2, Predicted=[2]\n",
            "class=6, expected=2, Predicted=[2] \n",
            "\n",
            "class=7, expected=3, Predicted=[2]\n",
            "class=7, expected=3, Predicted=[2]\n",
            "class=7, expected=3, Predicted=[2]\n",
            "class=7, expected=3, Predicted=[2]\n",
            "class=7, expected=3, Predicted=[2] \n",
            "\n",
            "class=8, expected=3, Predicted=[2]\n",
            "class=8, expected=3, Predicted=[2]\n",
            "class=8, expected=3, Predicted=[2]\n",
            "class=8, expected=3, Predicted=[2]\n"
          ],
          "name": "stdout"
        }
      ]
    },
    {
      "cell_type": "code",
      "metadata": {
        "id": "-6wFEqckrd-C",
        "colab_type": "code",
        "outputId": "d3f4fabd-4dcc-4ba9-ab19-d09e6d3b07a9",
        "colab": {
          "base_uri": "https://localhost:8080/",
          "height": 88
        }
      },
      "source": [
        "######## Naive Bayes\n",
        "\n",
        "\n",
        "from sklearn.naive_bayes import GaussianNB\n",
        "from sklearn.preprocessing import StandardScaler\n",
        "from sklearn.metrics import accuracy_score\n",
        "\n",
        "\n",
        "X_train, X_test, y_train, y_test = train_test_split(X, Y, test_size = 0.66, random_state = 5)\n",
        "sc_X = StandardScaler()\n",
        "X_train = sc_X.fit_transform(X_train)\n",
        "X_test = sc_X.transform(X_test)\n",
        "classifier=GaussianNB()\n",
        "classifier.fit(X_train,y_train)\n",
        "y_pred=classifier.predict(X_test)\n",
        "acc=accuracy_score(y_test, y_pred)\n",
        "print(acc)\n",
        "\n"
      ],
      "execution_count": 0,
      "outputs": [
        {
          "output_type": "stream",
          "text": [
            "0.7320075757575758\n"
          ],
          "name": "stdout"
        },
        {
          "output_type": "stream",
          "text": [
            "/usr/local/lib/python3.6/dist-packages/sklearn/naive_bayes.py:206: DataConversionWarning: A column-vector y was passed when a 1d array was expected. Please change the shape of y to (n_samples, ), for example using ravel().\n",
            "  y = column_or_1d(y, warn=True)\n"
          ],
          "name": "stderr"
        }
      ]
    },
    {
      "cell_type": "code",
      "metadata": {
        "id": "JNpPjWdFr7XY",
        "colab_type": "code",
        "outputId": "e2db708d-c65b-472b-9a3c-8576c5bda8a2",
        "colab": {
          "base_uri": "https://localhost:8080/",
          "height": 510
        }
      },
      "source": [
        "\n",
        "print(\"class=3, expected=1, Predicted=%s\" % (classifier.predict(test2)))\n",
        "print(\"class=3, expected=1, Predicted=%s\" % (classifier.predict(test4)))\n",
        "print(\"class=3, expected=1, Predicted=%s\" % (classifier.predict(test5)))\n",
        "print(\"class=3, expected=1, Predicted=%s\" % (classifier.predict(test6)))\n",
        "print(\"class=3, expected=1, Predicted=%s \\n\" % (classifier.predict(test7)))\n",
        "\n",
        "print(\"class=4, expected=1, Predicted=%s\" % (classifier.predict(test11) ))\n",
        "print(\"class=4, expected=1, Predicted=%s\" % (classifier.predict(test12) ))\n",
        "print(\"class=4, expected=1, Predicted=%s \\n\" % (classifier.predict(test13) ))\n",
        "\n",
        "print(\"class=5, expected=2, Predicted=%s\" % (classifier.predict(test) ))\n",
        "print(\"class=5, expected=2, Predicted=%s\" % (classifier.predict(test19) ))\n",
        "print(\"class=5, expected=2, Predicted=%s \\n\" % (classifier.predict(test20) ))\n",
        "\n",
        "print(\"class=6, expected=2, Predicted=%s\" % (classifier.predict(test3) ))\n",
        "print(\"class=6, expected=2, Predicted=%s\" % (classifier.predict(test21) ))\n",
        "print(\"class=6, expected=2, Predicted=%s\" % (classifier.predict(test22) ))\n",
        "print(\"class=6, expected=2, Predicted=%s \\n\" % (classifier.predict(test23) ))\n",
        "\n",
        "print(\"class=7, expected=3, Predicted=%s\" % (classifier.predict(test14)))\n",
        "print(\"class=7, expected=3, Predicted=%s\" % (classifier.predict(test15) ))\n",
        "print(\"class=7, expected=3, Predicted=%s\" % (classifier.predict(test16) ))\n",
        "print(\"class=7, expected=3, Predicted=%s\" % (classifier.predict(test17) ))\n",
        "print(\"class=7, expected=3, Predicted=%s \\n\" % (classifier.predict(test18) ))\n",
        "\n",
        "print(\"class=8, expected=3, Predicted=%s\" % (classifier.predict(test1) ))\n",
        "print(\"class=8, expected=3, Predicted=%s\" % (classifier.predict(test8) ))\n",
        "print(\"class=8, expected=3, Predicted=%s\" % (classifier.predict(test9) ))\n",
        "print(\"class=8, expected=3, Predicted=%s\" % (classifier.predict(test10) ))\n",
        "\n",
        "\n",
        "\n",
        "\n",
        "#print(classifier.predict_proba(test2))\n"
      ],
      "execution_count": 0,
      "outputs": [
        {
          "output_type": "stream",
          "text": [
            "class=3, expected=1, Predicted=[2]\n",
            "class=3, expected=1, Predicted=[2]\n",
            "class=3, expected=1, Predicted=[2]\n",
            "class=3, expected=1, Predicted=[2]\n",
            "class=3, expected=1, Predicted=[2] \n",
            "\n",
            "class=4, expected=1, Predicted=[2]\n",
            "class=4, expected=1, Predicted=[2]\n",
            "class=4, expected=1, Predicted=[2] \n",
            "\n",
            "class=5, expected=2, Predicted=[2]\n",
            "class=5, expected=2, Predicted=[2]\n",
            "class=5, expected=2, Predicted=[2] \n",
            "\n",
            "class=6, expected=2, Predicted=[2]\n",
            "class=6, expected=2, Predicted=[2]\n",
            "class=6, expected=2, Predicted=[2]\n",
            "class=6, expected=2, Predicted=[2] \n",
            "\n",
            "class=7, expected=3, Predicted=[2]\n",
            "class=7, expected=3, Predicted=[2]\n",
            "class=7, expected=3, Predicted=[2]\n",
            "class=7, expected=3, Predicted=[2]\n",
            "class=7, expected=3, Predicted=[2] \n",
            "\n",
            "class=8, expected=3, Predicted=[2]\n",
            "class=8, expected=3, Predicted=[2]\n",
            "class=8, expected=3, Predicted=[2]\n",
            "class=8, expected=3, Predicted=[2]\n"
          ],
          "name": "stdout"
        }
      ]
    },
    {
      "cell_type": "code",
      "metadata": {
        "id": "IEam788OsF5V",
        "colab_type": "code",
        "outputId": "b67c79f0-c421-406d-d739-7b29ebfe0e62",
        "colab": {
          "base_uri": "https://localhost:8080/",
          "height": 88
        }
      },
      "source": [
        "############ knn\n",
        "\n",
        "from sklearn.neighbors import KNeighborsClassifier\n",
        "\n",
        "\n",
        "\n",
        "X_train, X_test, y_train, y_test = train_test_split(X, Y, test_size = 0.66, random_state = 5)\n",
        "sc_X = StandardScaler()\n",
        "X_train = sc_X.fit_transform(X_train)\n",
        "X_test = sc_X.transform(X_test)\n",
        "classifier=KNeighborsClassifier(n_neighbors=25,metric='minkowski',p=2)\n",
        "classifier.fit(X_train,y_train)\n",
        "y_pred=classifier.predict(X_test)\n",
        "acc=accuracy_score(y_test, y_pred)\n",
        "print(acc)"
      ],
      "execution_count": 0,
      "outputs": [
        {
          "output_type": "stream",
          "text": [
            "0.8409090909090909\n"
          ],
          "name": "stdout"
        },
        {
          "output_type": "stream",
          "text": [
            "/usr/local/lib/python3.6/dist-packages/ipykernel_launcher.py:10: DataConversionWarning: A column-vector y was passed when a 1d array was expected. Please change the shape of y to (n_samples, ), for example using ravel().\n",
            "  # Remove the CWD from sys.path while we load stuff.\n"
          ],
          "name": "stderr"
        }
      ]
    },
    {
      "cell_type": "code",
      "metadata": {
        "id": "6MdEr7nksX3L",
        "colab_type": "code",
        "outputId": "8ff19b3d-2cb1-4911-8e05-ba3ee95a44bb",
        "colab": {
          "base_uri": "https://localhost:8080/",
          "height": 510
        }
      },
      "source": [
        "\n",
        "print(\"class=3, expected=1, Predicted=%s\" % (classifier.predict(test2)))\n",
        "print(\"class=3, expected=1, Predicted=%s\" % (classifier.predict(test4)))\n",
        "print(\"class=3, expected=1, Predicted=%s\" % (classifier.predict(test5)))\n",
        "print(\"class=3, expected=1, Predicted=%s\" % (classifier.predict(test6)))\n",
        "print(\"class=3, expected=1, Predicted=%s \\n\" % (classifier.predict(test7)))\n",
        "\n",
        "print(\"class=4, expected=1, Predicted=%s\" % (classifier.predict(test11) ))\n",
        "print(\"class=4, expected=1, Predicted=%s\" % (classifier.predict(test12) ))\n",
        "print(\"class=4, expected=1, Predicted=%s \\n\" % (classifier.predict(test13) ))\n",
        "\n",
        "print(\"class=5, expected=2, Predicted=%s\" % (classifier.predict(test) ))\n",
        "print(\"class=5, expected=2, Predicted=%s\" % (classifier.predict(test19) ))\n",
        "print(\"class=5, expected=2, Predicted=%s \\n\" % (classifier.predict(test20) ))\n",
        "\n",
        "print(\"class=6, expected=2, Predicted=%s\" % (classifier.predict(test3) ))\n",
        "print(\"class=6, expected=2, Predicted=%s\" % (classifier.predict(test21) ))\n",
        "print(\"class=6, expected=2, Predicted=%s\" % (classifier.predict(test22) ))\n",
        "print(\"class=6, expected=2, Predicted=%s \\n\" % (classifier.predict(test23) ))\n",
        "\n",
        "print(\"class=7, expected=3, Predicted=%s\" % (classifier.predict(test14)))\n",
        "print(\"class=7, expected=3, Predicted=%s\" % (classifier.predict(test15) ))\n",
        "print(\"class=7, expected=3, Predicted=%s\" % (classifier.predict(test16) ))\n",
        "print(\"class=7, expected=3, Predicted=%s\" % (classifier.predict(test17) ))\n",
        "print(\"class=7, expected=3, Predicted=%s \\n\" % (classifier.predict(test18) ))\n",
        "\n",
        "print(\"class=8, expected=3, Predicted=%s\" % (classifier.predict(test1) ))\n",
        "print(\"class=8, expected=3, Predicted=%s\" % (classifier.predict(test8) ))\n",
        "print(\"class=8, expected=3, Predicted=%s\" % (classifier.predict(test9) ))\n",
        "print(\"class=8, expected=3, Predicted=%s\" % (classifier.predict(test10) ))\n",
        "\n",
        "\n",
        "\n",
        "\n",
        "#print(classifier.predict_proba(test2))\n"
      ],
      "execution_count": 0,
      "outputs": [
        {
          "output_type": "stream",
          "text": [
            "class=3, expected=1, Predicted=[2]\n",
            "class=3, expected=1, Predicted=[2]\n",
            "class=3, expected=1, Predicted=[2]\n",
            "class=3, expected=1, Predicted=[2]\n",
            "class=3, expected=1, Predicted=[2] \n",
            "\n",
            "class=4, expected=1, Predicted=[2]\n",
            "class=4, expected=1, Predicted=[2]\n",
            "class=4, expected=1, Predicted=[2] \n",
            "\n",
            "class=5, expected=2, Predicted=[2]\n",
            "class=5, expected=2, Predicted=[2]\n",
            "class=5, expected=2, Predicted=[2] \n",
            "\n",
            "class=6, expected=2, Predicted=[2]\n",
            "class=6, expected=2, Predicted=[2]\n",
            "class=6, expected=2, Predicted=[2]\n",
            "class=6, expected=2, Predicted=[2] \n",
            "\n",
            "class=7, expected=3, Predicted=[2]\n",
            "class=7, expected=3, Predicted=[2]\n",
            "class=7, expected=3, Predicted=[2]\n",
            "class=7, expected=3, Predicted=[2]\n",
            "class=7, expected=3, Predicted=[2] \n",
            "\n",
            "class=8, expected=3, Predicted=[2]\n",
            "class=8, expected=3, Predicted=[2]\n",
            "class=8, expected=3, Predicted=[2]\n",
            "class=8, expected=3, Predicted=[2]\n"
          ],
          "name": "stdout"
        }
      ]
    },
    {
      "cell_type": "code",
      "metadata": {
        "id": "XjdOtP6KtHNL",
        "colab_type": "code",
        "outputId": "b084ba1e-6cc9-4619-f204-86e236314b14",
        "colab": {
          "base_uri": "https://localhost:8080/",
          "height": 88
        }
      },
      "source": [
        "######### Perceptron\n",
        "\n",
        "\n",
        "from sklearn.linear_model import Perceptron\n",
        "from sklearn.neighbors import KNeighborsClassifier\n",
        "\n",
        "\n",
        "X_train, X_test, y_train, y_test = train_test_split(X, Y, test_size = 0.66, random_state = 5)\n",
        "sc_X = StandardScaler()\n",
        "X_train = sc_X.fit_transform(X_train)\n",
        "X_test = sc_X.transform(X_test)\n",
        "classifier=Perceptron()\n",
        "classifier.fit(X_train,y_train)\n",
        "y_pred=classifier.predict(X_test)\n",
        "acc=accuracy_score(y_test, y_pred)\n",
        "print(acc)"
      ],
      "execution_count": 0,
      "outputs": [
        {
          "output_type": "stream",
          "text": [
            "0.7755681818181818\n"
          ],
          "name": "stdout"
        },
        {
          "output_type": "stream",
          "text": [
            "/usr/local/lib/python3.6/dist-packages/sklearn/utils/validation.py:760: DataConversionWarning: A column-vector y was passed when a 1d array was expected. Please change the shape of y to (n_samples, ), for example using ravel().\n",
            "  y = column_or_1d(y, warn=True)\n"
          ],
          "name": "stderr"
        }
      ]
    }
  ]
}